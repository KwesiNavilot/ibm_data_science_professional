{
 "cells": [
  {
   "cell_type": "markdown",
   "metadata": {},
   "source": [
    "<center>\n",
    "    <img src=\"https://cf-courses-data.s3.us.cloud-object-storage.appdomain.cloud/IBMDeveloperSkillsNetwork-DS0105EN-SkillsNetwork/labs/Module2/images/SN_web_lightmode.png\" width=\"300\" alt=\"cognitiveclass.ai logo\"  />\n",
    "</center>\n"
   ]
  },
  {
   "cell_type": "markdown",
   "metadata": {
    "tags": []
   },
   "source": [
    "# My Jupyter Notebook on IBM Watson Studio\n"
   ]
  },
  {
   "cell_type": "markdown",
   "metadata": {
    "tags": []
   },
   "source": [
    "**My name is Andrews Kwesi Ankomahene.**  \n",
    "I am a Software Engineer"
   ]
  },
  {
   "cell_type": "markdown",
   "metadata": {},
   "source": [
    "_I am interested in data science because it combines my passions for problem-solving and using data to make informed decisions. I believe that data science has the potential to greatly impact society and I want to be a part of that. I am excited to continue learning and growing in this field._"
   ]
  },
  {
   "cell_type": "markdown",
   "metadata": {},
   "source": [
    "### The code below is a simple subtraction to calculate the number of years since Ghana gained independence (6th March, 1957)"
   ]
  },
  {
   "cell_type": "code",
   "execution_count": 1,
   "metadata": {},
   "outputs": [
    {
     "data": {
      "text/plain": [
       "66"
      ]
     },
     "execution_count": 1,
     "metadata": {},
     "output_type": "execute_result"
    }
   ],
   "source": [
    "2023 - 1957"
   ]
  },
  {
   "cell_type": "markdown",
   "metadata": {},
   "source": [
    "### A Little More About Myself\n",
    "___\n",
    "#### Favourite Quote:\n",
    "> \"It always seems impossible until it is done\"\n",
    "> \\- Nelson Mandela\n",
    "___\n",
    "#### Programming Languages\n",
    "| Languages    | Expertise (10) |\n",
    "| ----------- | ----------- |\n",
    "| Java     | 9/10      |\n",
    "| PHP   | 9/10  |\n",
    "| JavaScript | 8/10 |\n",
    "| Python | 7.5/10 |\n",
    "| HTML + CSS | 9/10 |\n",
    "___\n",
    "#### Backend Frameworks\n",
    "- Laravel\n",
    "- Django\n",
    "___\n",
    "#### Frontend Frameworks\n",
    "1. VueJS\n",
    "2. ReactJS\n",
    "3. AlpineJS"
   ]
  },
  {
   "cell_type": "code",
   "execution_count": null,
   "metadata": {},
   "outputs": [],
   "source": []
  }
 ],
 "metadata": {
  "kernelspec": {
   "display_name": "Python",
   "language": "python",
   "name": "conda-env-python-py"
  },
  "language_info": {
   "codemirror_mode": {
    "name": "ipython",
    "version": 3
   },
   "file_extension": ".py",
   "mimetype": "text/x-python",
   "name": "python",
   "nbconvert_exporter": "python",
   "pygments_lexer": "ipython3",
   "version": "3.7.12"
  }
 },
 "nbformat": 4,
 "nbformat_minor": 4
}
